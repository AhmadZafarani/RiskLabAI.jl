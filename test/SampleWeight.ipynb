{
 "cells": [
  {
   "cell_type": "code",
   "execution_count": 2,
   "metadata": {},
   "outputs": [],
   "source": [
    "using PyCall\n",
    "using CSV\n",
    "using Dates\n",
    "using Distributions\n",
    "using DataFrames\n",
    "using .Threads\n",
    "using CairoMakie\n",
    "using StatsBase"
   ]
  },
  {
   "cell_type": "code",
   "execution_count": 8,
   "metadata": {},
   "outputs": [
    {
     "data": {
      "text/plain": [
       "dropLabel"
      ]
     },
     "metadata": {},
     "output_type": "display_data"
    }
   ],
   "source": [
    "include(\"C:/Users/hamid/OneDrive/Coding/RiskLabAI/RiskLab Code/2018-03Labels/labeling.jl\")"
   ]
  },
  {
   "cell_type": "code",
   "execution_count": 11,
   "metadata": {},
   "outputs": [
    {
     "data": {
      "text/plain": [
       "TimeDecay"
      ]
     },
     "metadata": {},
     "output_type": "display_data"
    }
   ],
   "source": [
    "include(\"C:\\\\Users\\\\hamid\\\\OneDrive\\\\Coding\\\\RiskLabAI\\\\RiskLab Code\\\\2018-03Labels\\\\labeling.jl\")\n",
    "include(\"C:\\\\Users\\\\hamid\\\\OneDrive\\\\Coding\\\\RiskLabAI\\\\RiskLab Code\\\\2018-20MultiprocessingVectorization\\\\HPC.jl\")\n",
    "include(\"SampleWeight.jl\")"
   ]
  },
  {
   "cell_type": "code",
   "execution_count": 12,
   "metadata": {},
   "outputs": [
    {
     "name": "stdout",
     "output_type": "stream",
     "text": [
      "\r[*********************100%***********************]  1 of 1 completed"
     ]
    }
   ],
   "source": [
    "py\"\"\"\n",
    "import yfinance\n",
    "import datetime as dt\n",
    "def get_data():\n",
    "  enddate = dt.datetime.strptime(\"2021-01-01\", \"%Y-%m-%d\").date()\n",
    "  startdate = enddate - dt.timedelta(days=360*2) # for 5 years\n",
    "\n",
    "  data = yfinance.download(tickers=\"AAPL\", period=\"700d\", interval=\"1h\")\n",
    "  return data\n",
    "\"\"\"\n",
    "df = py\"get_data\"();\n",
    "\n",
    "py\"\"\"\n",
    "import pandas as pd\n",
    "import numpy as np\n",
    "\n",
    "def get_ohlcv(df_group):\n",
    "    ohlc = df_group['Close'].ohlc()\n",
    "    ohlc['volume'] = df_group['Volume'].sum()\n",
    "    return ohlc\n",
    "\n",
    "def get_time_bar(df, freq=\"5Min\"):\n",
    "    df_group = df.groupby(pd.Grouper(freq=freq))\n",
    "    \n",
    "    ohlcv = get_ohlcv(df_group).dropna()\n",
    "    return ohlcv.index , ohlcv.to_numpy()\n",
    "\"\"\"\n",
    "\n",
    "py\"\"\"\n",
    "def reset_data_time(data):\n",
    "  df  = data.copy()\n",
    "  df.set_index(df.index.strftime(\"%Y-%m-%d\"))\n",
    "  return df\n",
    "\"\"\"\n",
    "\n",
    "indexs ,ohlcv = py\"get_time_bar\"(df, freq=\"1B\")\n",
    "index = indexs.strftime(\"%Y-%m-%d\");\n",
    "data = DataFrame(Dates = Date.(index,dateformat\"y-m-d\"),open = ohlcv[:,1] , high = ohlcv[:,2] , low = ohlcv[:,3] , close = ohlcv[:,4] , volume = ohlcv[:,5]);\n",
    "close = select(data,[\"Dates\" , \"close\"]);"
   ]
  },
  {
   "cell_type": "code",
   "execution_count": 13,
   "metadata": {},
   "outputs": [
    {
     "ename": "UndefVarError",
     "evalue": "UndefVarError: dailyvol not defined",
     "output_type": "error",
     "traceback": [
      "UndefVarError: dailyvol not defined\n",
      "\n",
      "Stacktrace:\n",
      " [1] top-level scope\n",
      "   @ c:\\Users\\hamid\\OneDrive\\Coding\\RiskLabAI\\RiskLab Code\\2018-04 sample weights\\SampleWeight.ipynb:2"
     ]
    }
   ],
   "source": [
    "numDays = 21\n",
    "rets,stds = dailyvol(close,32);\n",
    "tEvents = events(close, 2);\n",
    "t1 = verticalbarrier(close,tEvents,numDays);\n",
    "events_ = events(close, tEvents, 1, stds, 0.0; timestamp = t1.x2);"
   ]
  },
  {
   "cell_type": "code",
   "execution_count": null,
   "metadata": {},
   "outputs": [],
   "source": [
    "timestamp = select(events_,[\"date\" , \"timestamp\"]);"
   ]
  },
  {
   "cell_type": "code",
   "execution_count": null,
   "metadata": {},
   "outputs": [],
   "source": [
    "curr = ConcurrencyEvents(close.Dates , timestamp ,timestamp.date);"
   ]
  },
  {
   "cell_type": "code",
   "execution_count": null,
   "metadata": {},
   "outputs": [],
   "source": [
    "sample_weight = SampleWeight(timestamp,curr,timestamp.date);"
   ]
  },
  {
   "cell_type": "code",
   "execution_count": null,
   "metadata": {},
   "outputs": [],
   "source": [
    "rets.x1 = Date.(rets.x1)\n",
    "rets = filter(row -> row[:x1] in curr.date,rets)\n",
    "returns = DataFrame(date = rets.x1 , returns = rets.x2)\n",
    "sample_weight_ret = SampleWeight(timestamp,curr,returns,timestamp.date)"
   ]
  },
  {
   "cell_type": "code",
   "execution_count": null,
   "metadata": {},
   "outputs": [],
   "source": [
    "TimeDecay(sample_weight_ret ;clfLastW = -0.5)"
   ]
  },
  {
   "cell_type": "code",
   "execution_count": null,
   "metadata": {},
   "outputs": [],
   "source": [
    "function RandomTimestamp(nObservation , nBars , maximumHolding)\n",
    "    timestamp = DataFrame(date = zeros(nObservation) , timestamp = zeros(nObservation))\n",
    "    for i in 1:nObservation\n",
    "        date = rand(1:nBars)\n",
    "        t = date + rand(1:maximumHolding)\n",
    "        timestamp.date[i] = date\n",
    "        timestamp.timestamp[i] = t\n",
    "    end\n",
    "    sort!(timestamp,[:date])\n",
    "    return timestamp\n",
    "end\n",
    "function MonteCarloSimulationforSequentionalBootstraps(nObservation , nBars , maximumHolding)\n",
    "    timestamp = RandomTimestamp(nObservation , nBars , maximumHolding)\n",
    "    barIndex  = [i for i in 1:maximum(timestamp.timestamp) + 1]\n",
    "    indexMatrix_ = IndexMatrix(barIndex,timestamp)\n",
    "    ϕ = sample(1:size(indexMatrix_)[2] ,size(indexMatrix_)[2])\n",
    "    standardUniqueness = mean(AverageUniqueness(indexMatrix_[:,ϕ]))\n",
    "    ϕ = SequentialBootstrap(indexMatrix_,size(indexMatrix_)[2])\n",
    "    sequentioalUniqueness = mean(AverageUniqueness(indexMatrix_[:,ϕ]))\n",
    "    return standardUniqueness ,sequentioalUniqueness\n",
    "end"
   ]
  },
  {
   "cell_type": "code",
   "execution_count": null,
   "metadata": {},
   "outputs": [],
   "source": [
    "function SimulateSequentionalVsStandardBootstrap(iteration,nObservation , nBars , maximumHolding)\n",
    "    seqU = [[] for i in 1:nthreads()]\n",
    "    stdU = [[] for i in 1:nthreads()]\n",
    "    @threads for i in 1:iteration\n",
    "        standardUniqueness ,sequentioalUniqueness = MonteCarloSimulationforSequentionalBootstraps(nObservation , nBars , maximumHolding)\n",
    "        append!(seqU[threadid()],sequentioalUniqueness)\n",
    "        append!(stdU[threadid()],standardUniqueness)\n",
    "    end\n",
    "    seqU = vcat(seqU...)\n",
    "    stdU = vcat(stdU...)\n",
    "    return seqU,stdU\n",
    "end\n",
    "seqU , stdU = SimulateSequentionalVsStandardBootstrap(1000000,10 , 100 , 5);"
   ]
  },
  {
   "cell_type": "code",
   "execution_count": null,
   "metadata": {},
   "outputs": [],
   "source": [
    "f = Figure()\n",
    "Axis(f[1, 1])\n",
    "\n",
    "density!(Float64.(seqU), color = (:red, 0.3),\n",
    "    strokecolor = :red, strokewidth = 3, strokearound = true)\n",
    "density!(Float64.(stdU), color = (:blue, 0.3),\n",
    "    strokecolor = :blue, strokewidth = 3, strokearound = true)\n",
    "f"
   ]
  }
 ],
 "metadata": {
  "kernelspec": {
   "display_name": "Julia 1.8.0",
   "language": "julia",
   "name": "julia-1.8"
  },
  "language_info": {
   "file_extension": ".jl",
   "mimetype": "application/julia",
   "name": "julia",
   "version": "1.8.0"
  },
  "orig_nbformat": 4
 },
 "nbformat": 4,
 "nbformat_minor": 2
}
