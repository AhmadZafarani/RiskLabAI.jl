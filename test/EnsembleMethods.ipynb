{
 "cells": [
  {
   "cell_type": "code",
   "execution_count": 11,
   "metadata": {},
   "outputs": [],
   "source": [
    "using PlotlyJS"
   ]
  },
  {
   "cell_type": "markdown",
   "metadata": {},
   "source": [
    "## Variance Reduction\n",
    "\n",
    "Bagging’s main advantage is that it reduces forecasts’ variance, hence helping address\n",
    "overfitting. The variance of the bagged prediction ($\\phi_i [c]$) is a function of the number\n",
    "of bagged estimators (N), the average variance of a single estimator’s prediction ($\\sigma$), and the average correlation among their forecasts ($\\bar{\\rho}$): (part 6.3.1)"
   ]
  },
  {
   "cell_type": "code",
   "execution_count": 12,
   "metadata": {},
   "outputs": [
    {
     "data": {
      "text/plain": [
       "calculateVarianceReduction (generic function with 1 method)"
      ]
     },
     "metadata": {},
     "output_type": "display_data"
    }
   ],
   "source": [
    "function calculateVarianceReduction(N, ρBar; σBar=1)\n",
    "    reduction = σBar^2 * (ρBar + (1 - ρBar) / N)\n",
    "    reduction\n",
    "end"
   ]
  },
  {
   "cell_type": "code",
   "execution_count": 13,
   "metadata": {},
   "outputs": [
    {
     "data": {
      "text/plain": [
       "\"plot1.png\""
      ]
     },
     "metadata": {},
     "output_type": "display_data"
    }
   ],
   "source": [
    "N, ρBar, σBar = collect(5:1:30), collect(0.0:0.01:1.0), 1;\n",
    "\n",
    "grid = Iterators.product(N, ρBar) |> collect \n",
    "\n",
    "reductions = map((nρBarPair) -> calculateVarianceReduction(nρBarPair[1], nρBarPair[2]; σBar=σBar), grid)\n",
    "\n",
    "toSavePlot = plot(\n",
    "    heatmap(z=reductions, x=ρBar, y=N),\n",
    "    Layout(\n",
    "        title=\"Accuracy of a bagging classifier as a function of n and p\",\n",
    "        xaxis_title=\"Accuracy of a bagging classifier as a function of the individual estimator’s accuracy (p)\",\n",
    "        yaxis_title=\"the number of estimators (n)\",\n",
    "    )\n",
    ")   \n",
    "\n",
    "PlotlyJS.savefig(toSavePlot, \"plot1.png\")"
   ]
  },
  {
   "cell_type": "markdown",
   "metadata": {},
   "source": [
    "# Snippet 6.1\n",
    "## Low bound on Bagging Classifier Accuracy\n",
    "\n",
    "the bagging classifier’s accuracy exceeds the average\n",
    "accuracy of the individual classifiers. Snippet 6.1 implements this calculation."
   ]
  },
  {
   "cell_type": "code",
   "execution_count": 14,
   "metadata": {},
   "outputs": [
    {
     "name": "stdout",
     "output_type": "stream",
     "text": [
      "5.174329575275358496185881479638123523738939405934833816058752784178385331142243e-12"
     ]
    }
   ],
   "source": [
    "include(\"snippet_6.1.jl\")\n",
    "\n",
    "n, p, k = 1000, 1.0 / 3.0, 3.0\n",
    "\n",
    "n, p, k = 100, 0.2, 2\n",
    "accuracy = calculateBaggingClassifierAccuracy(n, p, k)\n",
    "print(accuracy)"
   ]
  },
  {
   "cell_type": "code",
   "execution_count": 15,
   "metadata": {},
   "outputs": [
    {
     "data": {
      "text/plain": [
       "\"plot2.png\""
      ]
     },
     "metadata": {},
     "output_type": "display_data"
    }
   ],
   "source": [
    "N, P, k = collect(1:1:101), collect(0.2:0.01:0.8), 2;\n",
    "\n",
    "grid = Iterators.product(N, P) |> collect \n",
    "\n",
    "accuracies = map((np) -> calculateBaggingClassifierAccuracy(np[1], np[2], k), grid)\n",
    "\n",
    "toSavePlot = plot(\n",
    "    heatmap(z=accuracies, x=P, y=N),\n",
    "    Layout(\n",
    "        title=\"Accuracy of a bagging classifier as a function of n and p\",\n",
    "        xaxis_title=\"Accuracy of a bagging classifier as a function of the individual estimator’s accuracy (p)\",\n",
    "        yaxis_title=\"the number of estimators (n)\",\n",
    "    )\n",
    ")   \n",
    "\n",
    "PlotlyJS.savefig(toSavePlot, \"plot2.png\")"
   ]
  }
 ],
 "metadata": {
  "kernelspec": {
   "display_name": "Julia 1.7.2",
   "language": "julia",
   "name": "julia-1.7"
  },
  "language_info": {
   "file_extension": ".jl",
   "mimetype": "application/julia",
   "name": "julia",
   "version": "1.7.2"
  },
  "orig_nbformat": 4,
  "vscode": {
   "interpreter": {
    "hash": "916dbcbb3f70747c44a77c7bcd40155683ae19c65e1c03b4aa3499c5328201f1"
   }
  }
 },
 "nbformat": 4,
 "nbformat_minor": 2
}
