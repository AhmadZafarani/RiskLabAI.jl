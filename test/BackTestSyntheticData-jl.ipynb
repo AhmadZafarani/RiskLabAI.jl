{
 "cells": [
  {
   "cell_type": "code",
   "execution_count": 1,
   "metadata": {},
   "outputs": [],
   "source": [
    "using Distributions\n",
    "using Statistics\n",
    "using PyCall\n",
    "# using Plots\n",
    "using IterTools\n",
    "using DataFrames, GLM\n",
    "using LinearAlgebra\n",
    "using PlotlyJS"
   ]
  },
  {
   "cell_type": "code",
   "execution_count": 2,
   "metadata": {},
   "outputs": [
    {
     "data": {
      "text/plain": [
       "Syntheticbacktesting (generic function with 2 methods)"
      ]
     },
     "metadata": {},
     "output_type": "display_data"
    }
   ],
   "source": [
    "include(\"BackTestSyntheticData.jl\")"
   ]
  },
  {
   "cell_type": "code",
   "execution_count": 1,
   "metadata": {},
   "outputs": [
    {
     "ename": "UndefVarError",
     "evalue": "UndefVarError: product not defined",
     "output_type": "error",
     "traceback": [
      "UndefVarError: product not defined\n",
      "\n",
      "Stacktrace:\n",
      "  [1] top-level scope\n",
      "    @ c:\\Users\\hamid\\OneDrive\\Coding\\RiskLabAI\\RiskLabAI-jl\\z2018-13 Backtesting on Synthetic Data\\BackTestSyntheticData-jl.ipynb:5\n",
      "  [2] eval\n",
      "    @ .\\boot.jl:373 [inlined]\n",
      "  [3] include_string(mapexpr::typeof(REPL.softscope), mod::Module, code::String, filename::String)\n",
      "    @ Base .\\loading.jl:1196\n",
      "  [4] #invokelatest#2\n",
      "    @ .\\essentials.jl:716 [inlined]\n",
      "  [5] invokelatest\n",
      "    @ .\\essentials.jl:714 [inlined]\n",
      "  [6] (::VSCodeServer.var\"#164#165\"{VSCodeServer.NotebookRunCellArguments, String})()\n",
      "    @ VSCodeServer c:\\Users\\hamid\\.vscode\\extensions\\julialang.language-julia-1.6.24\\scripts\\packages\\VSCodeServer\\src\\serve_notebook.jl:19\n",
      "  [7] withpath(f::VSCodeServer.var\"#164#165\"{VSCodeServer.NotebookRunCellArguments, String}, path::String)\n",
      "    @ VSCodeServer c:\\Users\\hamid\\.vscode\\extensions\\julialang.language-julia-1.6.24\\scripts\\packages\\VSCodeServer\\src\\repl.jl:184\n",
      "  [8] notebook_runcell_request(conn::VSCodeServer.JSONRPC.JSONRPCEndpoint{Base.PipeEndpoint, Base.PipeEndpoint}, params::VSCodeServer.NotebookRunCellArguments)\n",
      "    @ VSCodeServer c:\\Users\\hamid\\.vscode\\extensions\\julialang.language-julia-1.6.24\\scripts\\packages\\VSCodeServer\\src\\serve_notebook.jl:13\n",
      "  [9] dispatch_msg(x::VSCodeServer.JSONRPC.JSONRPCEndpoint{Base.PipeEndpoint, Base.PipeEndpoint}, dispatcher::VSCodeServer.JSONRPC.MsgDispatcher, msg::Dict{String, Any})\n",
      "    @ VSCodeServer.JSONRPC c:\\Users\\hamid\\.vscode\\extensions\\julialang.language-julia-1.6.24\\scripts\\packages\\JSONRPC\\src\\typed.jl:67\n",
      " [10] serve_notebook(pipename::String, outputchannel_logger::Base.CoreLogging.SimpleLogger; crashreporting_pipename::String)\n",
      "    @ VSCodeServer c:\\Users\\hamid\\.vscode\\extensions\\julialang.language-julia-1.6.24\\scripts\\packages\\VSCodeServer\\src\\serve_notebook.jl:136\n",
      " [11] top-level scope\n",
      "    @ c:\\Users\\hamid\\.vscode\\extensions\\julialang.language-julia-1.6.24\\scripts\\notebook\\notebook.jl:32\n",
      " [12] include(mod::Module, _path::String)\n",
      "    @ Base .\\Base.jl:418\n",
      " [13] exec_options(opts::Base.JLOptions)\n",
      "    @ Base .\\client.jl:292\n",
      " [14] _start()\n",
      "    @ Base .\\client.jl:495"
     ]
    }
   ],
   "source": [
    "forcast = [0 5 10 -5 -10] \n",
    "halfLife = [5 10 25 50 100]\n",
    "a = [] \n",
    "\n",
    "for p in product(forcast,halfLife)\n",
    "    out = Syntheticbacktesting(p[1],p[2],1)\n",
    "    Plots.display(heatmap(LinRange(0.5,10,20),LinRange(0.5,10,20), transpose(out),c=cgrad([:yellow, :blue]), xlabel = \"Profit-Taking\",\n",
    "        ylabel = \"Stop-Loss\",title = \"Forecast = $(p[1]) | H-L=$(p[2]) | Sigma=1\", \n",
    "        background = :transparent))\n",
    "    sleep(0.1)\n",
    "end"
   ]
  },
  {
   "cell_type": "code",
   "execution_count": null,
   "metadata": {},
   "outputs": [],
   "source": [
    "forcast = [0 5 10 -5 -10] \n",
    "halfLife = [5 10 25 50 100]\n",
    "a = [] \n",
    "@thread for p in product(forcast,halfLife)\n",
    "    #IJulia.clear_output(true)\n",
    "    out = Syntheticbacktesting(p[1],p[2],1)\n",
    "    Plots.display(heatmap(LinRange(0.5,10,20),LinRange(0.5,10,20),transpose(out),c=cgrad([:black, :white]), xlabel = \"Profit-Taking\",ylabel = \"Stop-Loss\",title = \"Forecast = $(p[1]) | H-L=$(p[2]) | Sigma=1\"))\n",
    "    sleep(0.1)\n",
    "end"
   ]
  },
  {
   "cell_type": "code",
   "execution_count": null,
   "metadata": {},
   "outputs": [],
   "source": [
    "py\"\"\"\n",
    "import yfinance\n",
    "import datetime as dt\n",
    "def get_data():\n",
    "  data = yfinance.download(tickers=\"SPY\", period=\"700d\", interval=\"1d\")\n",
    "  return data[\"Close\"].values\n",
    "\"\"\"\n",
    "price = py\"get_data\"();"
   ]
  },
  {
   "cell_type": "code",
   "execution_count": null,
   "metadata": {},
   "outputs": [],
   "source": [
    "out = Syntheticbacktesting(price,seed = price[1]);"
   ]
  },
  {
   "cell_type": "code",
   "execution_count": null,
   "metadata": {},
   "outputs": [],
   "source": [
    "a,b,c = fit_O_U_process(price)\n",
    "simulated_price = simulate_O_U_process(a,b,c,price[1],length(price));\n",
    "plot(price;legend_position =:topleft,label = \"actual\")\n",
    "plot!(simulated_price,label = \"simulated\")"
   ]
  }
 ],
 "metadata": {
  "kernelspec": {
   "display_name": "Julia 1.7.2",
   "language": "julia",
   "name": "julia-1.7"
  },
  "language_info": {
   "file_extension": ".jl",
   "mimetype": "application/julia",
   "name": "julia",
   "version": "1.7.2"
  },
  "orig_nbformat": 4
 },
 "nbformat": 4,
 "nbformat_minor": 2
}
