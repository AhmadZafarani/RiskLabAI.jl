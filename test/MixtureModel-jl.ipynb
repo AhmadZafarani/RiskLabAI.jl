{
 "cells": [
  {
   "cell_type": "code",
   "execution_count": 8,
   "metadata": {},
   "outputs": [],
   "source": [
    "using Distributions,Random,Statistics"
   ]
  },
  {
   "cell_type": "code",
   "execution_count": 16,
   "metadata": {},
   "outputs": [
    {
     "data": {
      "text/plain": [
       "fit! (generic function with 1 method)"
      ]
     },
     "execution_count": 16,
     "metadata": {},
     "output_type": "execute_result"
    }
   ],
   "source": [
    "include(\"MixtureModel.jl\")"
   ]
  },
  {
   "cell_type": "code",
   "execution_count": 10,
   "metadata": {},
   "outputs": [
    {
     "data": {
      "text/plain": [
       "MixtureModel{Normal}(K = 2)\n",
       "components[1] (prior = 0.6470): Normal{Float64}(μ=2.79, σ=9.62)\n",
       "components[2] (prior = 0.3530): Normal{Float64}(μ=-3.03, σ=12.0)\n"
      ]
     },
     "execution_count": 10,
     "metadata": {},
     "output_type": "execute_result"
    }
   ],
   "source": [
    "weights=[0.647, 0.353]\n",
    "means=[2.79, -3.03]\n",
    "covars=[9.62, 12.0]\n",
    "mix = MixtureModel(Normal[\n",
    "    Normal(means[1], covars[1]),\n",
    "    Normal(means[2], covars[2])],\n",
    "    [weights[1], weights[2]])\n",
    "mix"
   ]
  },
  {
   "cell_type": "code",
   "execution_count": 11,
   "metadata": {},
   "outputs": [
    {
     "data": {
      "text/plain": [
       "M2N([100.0, 100.0, 100.0, 100.0, 100.0], [0.0, 0.0, 0.0, 0.0, 0.0], 50000.0)"
      ]
     },
     "execution_count": 11,
     "metadata": {},
     "output_type": "execute_result"
    }
   ],
   "source": [
    "data = rand(mix,100000)\n",
    "guassianmixturemodel = M2N(moments = zeros(5) .+ 100)"
   ]
  },
  {
   "cell_type": "code",
   "execution_count": 19,
   "metadata": {},
   "outputs": [],
   "source": [
    "fit!(guassianmixturemodel,data) ;"
   ]
  },
  {
   "cell_type": "code",
   "execution_count": 20,
   "metadata": {},
   "outputs": [
    {
     "data": {
      "text/plain": [
       "5-element Vector{Float64}:\n",
       " -2.757207927502761\n",
       "  3.0147376841180957\n",
       " 11.913554136914712\n",
       "  9.473284107508315\n",
       "  0.394240836668992"
      ]
     },
     "execution_count": 20,
     "metadata": {},
     "output_type": "execute_result"
    }
   ],
   "source": [
    "guassianmixturemodel.parameters"
   ]
  },
  {
   "cell_type": "code",
   "execution_count": 22,
   "metadata": {},
   "outputs": [
    {
     "data": {
      "text/plain": [
       "3.0270658160077897"
      ]
     },
     "execution_count": 22,
     "metadata": {},
     "output_type": "execute_result"
    }
   ],
   "source": [
    "n = Normal(2, 3)\n",
    "std(rand(n,10000))"
   ]
  }
 ],
 "metadata": {
  "kernelspec": {
   "display_name": "Julia 1.7.2",
   "language": "julia",
   "name": "julia-1.7"
  },
  "language_info": {
   "file_extension": ".jl",
   "mimetype": "application/julia",
   "name": "julia",
   "version": "1.7.2"
  },
  "orig_nbformat": 4
 },
 "nbformat": 4,
 "nbformat_minor": 2
}
