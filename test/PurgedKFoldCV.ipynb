{
 "cells": [
  {
   "cell_type": "code",
   "execution_count": null,
   "metadata": {},
   "outputs": [],
   "source": [
    "using Dates\n",
    "using MarketData\n",
    "using StatsBase\n",
    "# using Plots\n",
    "using DataFrames"
   ]
  },
  {
   "cell_type": "code",
   "execution_count": 7,
   "metadata": {},
   "outputs": [
    {
     "name": "stderr",
     "output_type": "stream",
     "text": [
      "\u001b[32m\u001b[1m  Activating\u001b[22m\u001b[39m new project at `C:\\Users\\hamid\\.julia\\environments\\my_MLJ_env`\n"
     ]
    }
   ],
   "source": [
    "using Statistics\n",
    "using MarketTechnicals\n",
    "using Lathe\n",
    "using TimeSeries\n",
    "using Pkg; Pkg.activate(\"my_MLJ_env\", shared=true)\n",
    "# using MLJ\n",
    "# using MLDataUtils"
   ]
  },
  {
   "cell_type": "code",
   "execution_count": 1,
   "metadata": {},
   "outputs": [
    {
     "ename": "ErrorException",
     "evalue": "syntax: invalid escape sequence",
     "output_type": "error",
     "traceback": [
      "syntax: invalid escape sequence\n",
      "\n",
      "Stacktrace:\n",
      " [1] top-level scope\n",
      "   @ c:\\Users\\hamid\\OneDrive\\Coding\\RiskLabAI\\RiskLabAI-jl\\Validation\\PurgedKFoldCV.ipynb:1"
     ]
    }
   ],
   "source": [
    "include(\"RiskLabAI-jl\\Validation\\PurgedKFoldCV.jl\")"
   ]
  },
  {
   "cell_type": "markdown",
   "metadata": {},
   "source": [
    "# Data\n",
    "We import bitcoin data from Yahoo finance from 2021."
   ]
  },
  {
   "cell_type": "code",
   "execution_count": 2,
   "metadata": {},
   "outputs": [
    {
     "ename": "UndefVarError",
     "evalue": "UndefVarError: DateTime not defined",
     "output_type": "error",
     "traceback": [
      "UndefVarError: DateTime not defined\n",
      "\n",
      "Stacktrace:\n",
      " [1] top-level scope\n",
      "   @ c:\\Users\\hamid\\OneDrive\\Coding\\RiskLabAI\\RiskLabAI-jl\\Validation\\PurgedKFoldCV.ipynb:1"
     ]
    }
   ],
   "source": [
    "btc = yahoo(\"BTC-USD\", YahooOpt(period1 = DateTime(2021, 1, 1), period2 = DateTime(2021, 12, 1)))[\"Close\"]"
   ]
  },
  {
   "cell_type": "code",
   "execution_count": 3,
   "metadata": {},
   "outputs": [
    {
     "ename": "UndefVarError",
     "evalue": "UndefVarError: btc not defined",
     "output_type": "error",
     "traceback": [
      "UndefVarError: btc not defined\n",
      "\n",
      "Stacktrace:\n",
      " [1] top-level scope\n",
      "   @ c:\\Users\\hamid\\OneDrive\\Coding\\RiskLabAI\\RiskLabAI-jl\\Validation\\PurgedKFoldCV.ipynb:1"
     ]
    }
   ],
   "source": [
    "btc_df = DataFrame(btc[55:end])\n",
    "btc_df[!, \"EMA 55\"] = ema(values(btc), 55)[1:end]\n",
    "btc_df[!, \"EMA 15\"] = ema(values(btc), 15)[55 - 15 + 1: end]\n",
    "btc_df[!, :Cross] .= 0\n",
    "btc_df[!, :Cross] = ifelse.(btc_df[:, \"EMA 55\"] .< btc_df[:, \"EMA 15\"], 1, 0)\n",
    "btc_ts = TimeArray(btc_df, timestamp = :timestamp)"
   ]
  },
  {
   "cell_type": "code",
   "execution_count": 4,
   "metadata": {},
   "outputs": [
    {
     "ename": "UndefVarError",
     "evalue": "UndefVarError: btc_ts not defined",
     "output_type": "error",
     "traceback": [
      "UndefVarError: btc_ts not defined\n",
      "\n",
      "Stacktrace:\n",
      " [1] top-level scope\n",
      "   @ c:\\Users\\hamid\\OneDrive\\Coding\\RiskLabAI\\RiskLabAI-jl\\Validation\\PurgedKFoldCV.ipynb:1"
     ]
    }
   ],
   "source": [
    "targetPositions = string.(btc_ts.Cross) # labels\n",
    "data = btc_ts[:Close, Symbol(\"EMA 55\"), Symbol(\"EMA 15\")]\n",
    "times = TimeArray(DataFrame(startTime = timestamp(btc_ts), endTime = append!(timestamp(btc_ts)[2:end], [timestamp(btc_ts)[end] + (timestamp(btc_ts)[2]-timestamp(btc_ts)[1])])), timestamp = :startTime)\n",
    "train_index, test_index = Lathe.preprocess.UniformSplit(collect(1:length(btc_ts)))"
   ]
  },
  {
   "cell_type": "markdown",
   "metadata": {},
   "source": [
    "# Purged Training Times\n",
    "Purges test observations in the training set"
   ]
  },
  {
   "cell_type": "code",
   "execution_count": 5,
   "metadata": {},
   "outputs": [
    {
     "ename": "UndefVarError",
     "evalue": "UndefVarError: times not defined",
     "output_type": "error",
     "traceback": [
      "UndefVarError: times not defined\n",
      "\n",
      "Stacktrace:\n",
      " [1] top-level scope\n",
      "   @ c:\\Users\\hamid\\OneDrive\\Coding\\RiskLabAI\\RiskLabAI-jl\\Validation\\PurgedKFoldCV.ipynb:1"
     ]
    }
   ],
   "source": [
    "purgedTrainTimes(times, times[test_index])"
   ]
  },
  {
   "cell_type": "markdown",
   "metadata": {},
   "source": [
    "# Embargo Times\n",
    "Gets embargo time for each bar"
   ]
  },
  {
   "cell_type": "code",
   "execution_count": 6,
   "metadata": {},
   "outputs": [
    {
     "ename": "UndefVarError",
     "evalue": "UndefVarError: timestamp not defined",
     "output_type": "error",
     "traceback": [
      "UndefVarError: timestamp not defined\n",
      "\n",
      "Stacktrace:\n",
      " [1] top-level scope\n",
      "   @ c:\\Users\\hamid\\OneDrive\\Coding\\RiskLabAI\\RiskLabAI-jl\\Validation\\PurgedKFoldCV.ipynb:1"
     ]
    }
   ],
   "source": [
    "embargoTimes(timestamp(btc_ts), 0.05)"
   ]
  },
  {
   "cell_type": "markdown",
   "metadata": {},
   "source": [
    "# Purged KFold and Cross Validation Score\n",
    "Uses the PurgedKFold struct and functions to achieve CV score"
   ]
  },
  {
   "cell_type": "code",
   "execution_count": 7,
   "metadata": {},
   "outputs": [
    {
     "ename": "UndefVarError",
     "evalue": "UndefVarError: PurgedKFold not defined",
     "output_type": "error",
     "traceback": [
      "UndefVarError: PurgedKFold not defined\n",
      "\n",
      "Stacktrace:\n",
      " [1] top-level scope\n",
      "   @ c:\\Users\\hamid\\OneDrive\\Coding\\RiskLabAI\\RiskLabAI-jl\\Validation\\PurgedKFoldCV.ipynb:1"
     ]
    }
   ],
   "source": [
    "purgedKFold = PurgedKFold(5, times, 0.05)"
   ]
  },
  {
   "cell_type": "code",
   "execution_count": 8,
   "metadata": {},
   "outputs": [
    {
     "ename": "UndefVarError",
     "evalue": "UndefVarError: purgedKFoldSplit not defined",
     "output_type": "error",
     "traceback": [
      "UndefVarError: purgedKFoldSplit not defined\n",
      "\n",
      "Stacktrace:\n",
      " [1] top-level scope\n",
      "   @ c:\\Users\\hamid\\OneDrive\\Coding\\RiskLabAI\\RiskLabAI-jl\\Validation\\PurgedKFoldCV.ipynb:1"
     ]
    }
   ],
   "source": [
    "collect(purgedKFoldSplit(purgedKFold, btc_ts))"
   ]
  },
  {
   "cell_type": "code",
   "execution_count": 9,
   "metadata": {},
   "outputs": [
    {
     "ename": "LoadError",
     "evalue": "LoadError: UndefVarError: @load not defined\nin expression starting at c:\\Users\\hamid\\OneDrive\\Coding\\RiskLabAI\\RiskLabAI-jl\\Validation\\PurgedKFoldCV.ipynb:1",
     "output_type": "error",
     "traceback": [
      "LoadError: UndefVarError: @load not defined\n",
      "in expression starting at c:\\Users\\hamid\\OneDrive\\Coding\\RiskLabAI\\RiskLabAI-jl\\Validation\\PurgedKFoldCV.ipynb:1\n"
     ]
    }
   ],
   "source": [
    "tree_model = @load RandomForestClassifier pkg=\"DecisionTree\" verbosity=0 "
   ]
  },
  {
   "cell_type": "code",
   "execution_count": 10,
   "metadata": {},
   "outputs": [
    {
     "ename": "UndefVarError",
     "evalue": "UndefVarError: data not defined",
     "output_type": "error",
     "traceback": [
      "UndefVarError: data not defined\n",
      "\n",
      "Stacktrace:\n",
      " [1] top-level scope\n",
      "   @ c:\\Users\\hamid\\OneDrive\\Coding\\RiskLabAI\\RiskLabAI-jl\\Validation\\PurgedKFoldCV.ipynb:1"
     ]
    }
   ],
   "source": [
    "crossValidationScore(tree_model, data, targetPositions, ones(length(data)), \"Log Loss\", times, purgedKFold, 5, 0.05)"
   ]
  }
 ],
 "metadata": {
  "kernelspec": {
   "display_name": "Julia 1.7.2",
   "language": "julia",
   "name": "julia-1.7"
  },
  "language_info": {
   "file_extension": ".jl",
   "mimetype": "application/julia",
   "name": "julia",
   "version": "1.7.2"
  },
  "orig_nbformat": 4
 },
 "nbformat": 4,
 "nbformat_minor": 2
}
